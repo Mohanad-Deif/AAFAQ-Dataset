{
 "cells": [
  {
   "cell_type": "code",
   "execution_count": null,
   "id": "9bec3d2b",
   "metadata": {},
   "outputs": [],
   "source": [
    "# AAFAQ Dataset Figures Generator\n",
    "\n",
    "This notebook generates all visualizations included in the AAFAQ dataset paper."
   ]
  },
  {
   "cell_type": "code",
   "execution_count": null,
   "id": "223495cc",
   "metadata": {},
   "outputs": [],
   "source": [
    "import pandas as pd\n",
    "import matplotlib.pyplot as plt\n",
    "import seaborn as sns\n",
    "from sklearn.preprocessing import LabelEncoder\n",
    "from scipy.stats import chi2_contingency\n",
    "import numpy as np\n",
    "import itertools"
   ]
  },
  {
   "cell_type": "code",
   "execution_count": null,
   "id": "b94e500e",
   "metadata": {},
   "outputs": [],
   "source": [
    "# Load dataset\n",
    "df = pd.read_csv(\"AAFAQ_Dataset.csv\")"
   ]
  },
  {
   "cell_type": "code",
   "execution_count": null,
   "id": "3557b245",
   "metadata": {},
   "outputs": [],
   "source": [
    "# Figure 2: Question Particles\n",
    "plt.figure(figsize=(10, 6))\n",
    "df['QuestionParticle'].value_counts().plot(kind='bar')\n",
    "plt.title(\"Figure 2: Frequency of Question Particles\")\n",
    "plt.xlabel(\"Question Particle\")\n",
    "plt.ylabel(\"Frequency\")\n",
    "plt.tight_layout()\n",
    "plt.show()"
   ]
  },
  {
   "cell_type": "code",
   "execution_count": null,
   "id": "d0de2e7d",
   "metadata": {},
   "outputs": [],
   "source": [
    "# Figure 3: Question Particle Type\n",
    "plt.figure(figsize=(6, 4))\n",
    "df['QuestionParticleType'].value_counts().plot(kind='bar', color='skyblue')\n",
    "plt.title(\"Figure 3: Question Particle Type\")\n",
    "plt.ylabel(\"Frequency\")\n",
    "plt.tight_layout()\n",
    "plt.show()"
   ]
  },
  {
   "cell_type": "code",
   "execution_count": null,
   "id": "7ab5fd90",
   "metadata": {},
   "outputs": [],
   "source": [
    "# Figure 4: Question Type\n",
    "plt.figure(figsize=(6, 4))\n",
    "df['QuestionType'].value_counts().plot(kind='bar', color='salmon')\n",
    "plt.title(\"Figure 4: Question Type\")\n",
    "plt.ylabel(\"Frequency\")\n",
    "plt.tight_layout()\n",
    "plt.show()"
   ]
  },
  {
   "cell_type": "code",
   "execution_count": null,
   "id": "f9e77d8c",
   "metadata": {},
   "outputs": [],
   "source": [
    "# Figure 5: List\n",
    "plt.figure(figsize=(6, 4))\n",
    "df['List'].value_counts().plot(kind='bar', color='orange')\n",
    "plt.title(\"Figure 5: List Feature\")\n",
    "plt.ylabel(\"Frequency\")\n",
    "plt.tight_layout()\n",
    "plt.show()"
   ]
  },
  {
   "cell_type": "code",
   "execution_count": null,
   "id": "dd8c025a",
   "metadata": {},
   "outputs": [],
   "source": [
    "# Figure 6: Answer Type\n",
    "plt.figure(figsize=(10, 6))\n",
    "df['AnswerType'].value_counts().plot(kind='bar', color='green')\n",
    "plt.title(\"Figure 6: Answer Type\")\n",
    "plt.xlabel(\"Answer Type\")\n",
    "plt.ylabel(\"Frequency\")\n",
    "plt.tight_layout()\n",
    "plt.show()"
   ]
  },
  {
   "cell_type": "code",
   "execution_count": null,
   "id": "31674a60",
   "metadata": {},
   "outputs": [],
   "source": [
    "# Figure 7: Intent\n",
    "plt.figure(figsize=(12, 6))\n",
    "df['Intent'].value_counts().plot(kind='bar', color='purple')\n",
    "plt.title(\"Figure 7: Intent\")\n",
    "plt.xlabel(\"Intent\")\n",
    "plt.ylabel(\"Frequency\")\n",
    "plt.tight_layout()\n",
    "plt.show()"
   ]
  },
  {
   "cell_type": "code",
   "execution_count": null,
   "id": "5ed4c110",
   "metadata": {},
   "outputs": [],
   "source": [
    "# Figure 8: Cognitive Level\n",
    "plt.figure(figsize=(8, 5))\n",
    "df['CognitiveLevel'].value_counts().plot(kind='bar', color='teal')\n",
    "plt.title(\"Figure 8: Cognitive Level\")\n",
    "plt.ylabel(\"Frequency\")\n",
    "plt.tight_layout()\n",
    "plt.show()"
   ]
  },
  {
   "cell_type": "code",
   "execution_count": null,
   "id": "b6b6bcf6",
   "metadata": {},
   "outputs": [],
   "source": [
    "# Figure 9: Category\n",
    "plt.figure(figsize=(12, 6))\n",
    "df['Category'].value_counts().plot(kind='bar', color='cyan')\n",
    "plt.title(\"Figure 9: Category Distribution\")\n",
    "plt.xlabel(\"Category\")\n",
    "plt.ylabel(\"Frequency\")\n",
    "plt.tight_layout()\n",
    "plt.show()"
   ]
  },
  {
   "cell_type": "code",
   "execution_count": null,
   "id": "f482533c",
   "metadata": {},
   "outputs": [],
   "source": [
    "# Figure 10: Subjectivity\n",
    "plt.figure(figsize=(6, 4))\n",
    "df['Subjectivity'].value_counts().plot(kind='bar', color='coral')\n",
    "plt.title(\"Figure 10: Subjectivity\")\n",
    "plt.ylabel(\"Frequency\")\n",
    "plt.tight_layout()\n",
    "plt.show()"
   ]
  },
  {
   "cell_type": "code",
   "execution_count": null,
   "id": "c152cdac",
   "metadata": {},
   "outputs": [],
   "source": [
    "# Figure 11: Temporal Context\n",
    "plt.figure(figsize=(8, 5))\n",
    "df['TemporalContext'].value_counts().plot(kind='bar', color='khaki')\n",
    "plt.title(\"Figure 11: Temporal Context\")\n",
    "plt.ylabel(\"Frequency\")\n",
    "plt.tight_layout()\n",
    "plt.show()"
   ]
  },
  {
   "cell_type": "code",
   "execution_count": null,
   "id": "fbacbaa0",
   "metadata": {},
   "outputs": [],
   "source": [
    "# Figure 12: Purpose Context\n",
    "plt.figure(figsize=(8, 5))\n",
    "df['PurposeContext'].value_counts().plot(kind='bar', color='steelblue')\n",
    "plt.title(\"Figure 12: Purpose Context\")\n",
    "plt.ylabel(\"Frequency\")\n",
    "plt.tight_layout()\n",
    "plt.show()"
   ]
  },
  {
   "cell_type": "code",
   "execution_count": null,
   "id": "c2bf95f3",
   "metadata": {},
   "outputs": [],
   "source": [
    "# Figure 13: Correlation Matrix\n",
    "cols = ['QuestionParticle', 'QuestionParticleType', 'Intent', 'AnswerType', 'List',\n",
    "        'Subjectivity', 'PurposeContext', 'CognitiveLevel', 'QuestionType']\n",
    "le_map = {}\n",
    "for col in cols:\n",
    "    le = LabelEncoder()\n",
    "    df[col + '_enc'] = le.fit_transform(df[col].astype(str))\n",
    "    le_map[col] = le\n",
    "\n",
    "def cramers_v(x, y):\n",
    "    confusion_matrix = pd.crosstab(x, y)\n",
    "    chi2 = chi2_contingency(confusion_matrix)[0]\n",
    "    n = confusion_matrix.sum().sum()\n",
    "    phi2 = chi2 / n\n",
    "    r, k = confusion_matrix.shape\n",
    "    phi2corr = max(0, phi2 - ((k-1)*(r-1))/(n-1))\n",
    "    rcorr = r - ((r-1)**2)/(n-1)\n",
    "    kcorr = k - ((k-1)**2)/(n-1)\n",
    "    return np.sqrt(phi2corr / min((kcorr-1), (rcorr-1)))\n",
    "\n",
    "import itertools\n",
    "cramer_matrix = pd.DataFrame(index=cols, columns=cols)\n",
    "for col1, col2 in itertools.combinations(cols, 2):\n",
    "    val = cramers_v(df[col1+'_enc'], df[col2+'_enc'])\n",
    "    cramer_matrix.loc[col1, col2] = val\n",
    "    cramer_matrix.loc[col2, col1] = val\n",
    "np.fill_diagonal(cramer_matrix.values, 1.0)\n",
    "cramer_matrix = cramer_matrix.astype(float)\n",
    "\n",
    "plt.figure(figsize=(12, 10))\n",
    "sns.heatmap(cramer_matrix, annot=True, cmap='coolwarm', vmin=0, vmax=1)\n",
    "plt.title(\"Figure 13: Correlation Matrix between Annotation Dimensions\")\n",
    "plt.tight_layout()\n",
    "plt.show()"
   ]
  }
 ],
 "metadata": {},
 "nbformat": 4,
 "nbformat_minor": 5
}