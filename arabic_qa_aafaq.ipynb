{
 "cells": [
  {
   "cell_type": "code",
   "execution_count": null,
   "id": "d091d527",
   "metadata": {},
   "outputs": [],
   "source": [
    "# Arabic QA Classification using AAFAQ and AraBERT"
   ]
  },
  {
   "cell_type": "code",
   "execution_count": null,
   "id": "33142b54",
   "metadata": {},
   "outputs": [],
   "source": [
    "import pandas as pd\n",
    "import torch\n",
    "from transformers import AutoTokenizer, AutoModelForSequenceClassification, Trainer, TrainingArguments\n",
    "from sklearn.preprocessing import LabelEncoder\n",
    "from sklearn.metrics import classification_report\n",
    "from datasets import Dataset"
   ]
  },
  {
   "cell_type": "code",
   "execution_count": null,
   "id": "ae744c02",
   "metadata": {},
   "outputs": [],
   "source": [
    "# Load Dataset\n",
    "df = pd.read_csv(\"AAFAQ_Dataset.csv\")"
   ]
  },
  {
   "cell_type": "code",
   "execution_count": null,
   "id": "887dabb3",
   "metadata": {},
   "outputs": [],
   "source": [
    "# Select Features for Classification\n",
    "target_columns = [\n",
    "    \"QuestionParticleType\", \"QuestionType\", \"List\", \"AnswerType\",\n",
    "    \"Intent\", \"CognitiveLevel\", \"Subjectivity\", \"TemporalContext\", \"PurposeContext\"\n",
    "]"
   ]
  },
  {
   "cell_type": "code",
   "execution_count": null,
   "id": "f9525252",
   "metadata": {},
   "outputs": [],
   "source": [
    "# Encode Labels\n",
    "label_encoders = {}\n",
    "for col in target_columns:\n",
    "    le = LabelEncoder()\n",
    "    df[col] = le.fit_transform(df[col])\n",
    "    label_encoders[col] = le"
   ]
  },
  {
   "cell_type": "code",
   "execution_count": null,
   "id": "cabecfa0",
   "metadata": {},
   "outputs": [],
   "source": [
    "# Create Combined Label Column\n",
    "df['labels'] = df[target_columns].values.tolist()"
   ]
  },
  {
   "cell_type": "code",
   "execution_count": null,
   "id": "5afb064b",
   "metadata": {},
   "outputs": [],
   "source": [
    "# Train-Test Split\n",
    "train_df = df.sample(frac=0.8, random_state=42)\n",
    "test_df = df.drop(train_df.index)"
   ]
  },
  {
   "cell_type": "code",
   "execution_count": null,
   "id": "780565e5",
   "metadata": {},
   "outputs": [],
   "source": [
    "# Tokenization\n",
    "tokenizer = AutoTokenizer.from_pretrained(\"aubmindlab/bert-base-arabertv02\")\n",
    "\n",
    "def tokenize(batch):\n",
    "    return tokenizer(batch['QuestionText'], padding=\"max_length\", truncation=True, max_length=128)"
   ]
  },
  {
   "cell_type": "code",
   "execution_count": null,
   "id": "cc1faad4",
   "metadata": {},
   "outputs": [],
   "source": [
    "# Convert to Hugging Face Dataset\n",
    "train_ds = Dataset.from_pandas(train_df[['QuestionText', 'labels']])\n",
    "test_ds = Dataset.from_pandas(test_df[['QuestionText', 'labels']])\n",
    "\n",
    "train_ds = train_ds.map(tokenize, batched=True)\n",
    "test_ds = test_ds.map(tokenize, batched=True)"
   ]
  },
  {
   "cell_type": "code",
   "execution_count": null,
   "id": "edaf7ef5",
   "metadata": {},
   "outputs": [],
   "source": [
    "# Prepare Labels\n",
    "def format_labels(example):\n",
    "    example['labels'] = torch.tensor(example['labels'], dtype=torch.float)\n",
    "    return example\n",
    "\n",
    "train_ds = train_ds.map(format_labels)\n",
    "test_ds = test_ds.map(format_labels)"
   ]
  },
  {
   "cell_type": "code",
   "execution_count": null,
   "id": "a9d68974",
   "metadata": {},
   "outputs": [],
   "source": [
    "# Load Model\n",
    "model = AutoModelForSequenceClassification.from_pretrained(\n",
    "    \"aubmindlab/bert-base-arabertv02\",\n",
    "    problem_type=\"multi_label_classification\",\n",
    "    num_labels=len(target_columns),\n",
    ")"
   ]
  },
  {
   "cell_type": "code",
   "execution_count": null,
   "id": "bf1f9a2f",
   "metadata": {},
   "outputs": [],
   "source": [
    "# Training Arguments\n",
    "training_args = TrainingArguments(\n",
    "    output_dir=\"./results\",\n",
    "    evaluation_strategy=\"epoch\",\n",
    "    learning_rate=5e-6,\n",
    "    per_device_train_batch_size=8,\n",
    "    per_device_eval_batch_size=16,\n",
    "    num_train_epochs=5,\n",
    "    weight_decay=0.01,\n",
    "    logging_dir=\"./logs\",\n",
    "    logging_steps=10,\n",
    "    save_strategy=\"no\"\n",
    ")"
   ]
  },
  {
   "cell_type": "code",
   "execution_count": null,
   "id": "b15e308f",
   "metadata": {},
   "outputs": [],
   "source": [
    "# Metrics\n",
    "def compute_metrics(pred):\n",
    "    preds = torch.sigmoid(torch.tensor(pred.predictions)).numpy() > 0.5\n",
    "    labels = pred.label_ids\n",
    "    return {\n",
    "        \"macro_f1\": classification_report(labels, preds, output_dict=True, zero_division=0)['macro avg']['f1-score']\n",
    "    }"
   ]
  },
  {
   "cell_type": "code",
   "execution_count": null,
   "id": "4eb697f3",
   "metadata": {},
   "outputs": [],
   "source": [
    "# Trainer Setup\n",
    "trainer = Trainer(\n",
    "    model=model,\n",
    "    args=training_args,\n",
    "    train_dataset=train_ds,\n",
    "    eval_dataset=test_ds,\n",
    "    tokenizer=tokenizer,\n",
    "    compute_metrics=compute_metrics\n",
    ")"
   ]
  },
  {
   "cell_type": "code",
   "execution_count": null,
   "id": "f7b08f12",
   "metadata": {},
   "outputs": [],
   "source": [
    "# Train\n",
    "trainer.train()"
   ]
  },
  {
   "cell_type": "code",
   "execution_count": null,
   "id": "e03c2865",
   "metadata": {},
   "outputs": [],
   "source": [
    "# Evaluate\n",
    "eval_results = trainer.evaluate()\n",
    "print(\"Evaluation Results:\", eval_results)"
   ]
  },
  {
   "cell_type": "code",
   "execution_count": null,
   "id": "818568e3",
   "metadata": {},
   "outputs": [],
   "source": [
    "# Save Model\n",
    "model.save_pretrained(\"./arabert-aafaq-model\")\n",
    "tokenizer.save_pretrained(\"./arabert-aafaq-model\")"
   ]
  }
 ],
 "metadata": {},
 "nbformat": 4,
 "nbformat_minor": 5
}